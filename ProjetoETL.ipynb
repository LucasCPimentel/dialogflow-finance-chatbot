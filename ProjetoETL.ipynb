{
  "nbformat": 4,
  "nbformat_minor": 0,
  "metadata": {
    "colab": {
      "provenance": [],
      "toc_visible": true,
      "authorship_tag": "ABX9TyP8umKFEzA/80cw7/HBmKTB",
      "include_colab_link": true
    },
    "kernelspec": {
      "name": "python3",
      "display_name": "Python 3"
    },
    "language_info": {
      "name": "python"
    }
  },
  "cells": [
    {
      "cell_type": "markdown",
      "metadata": {
        "id": "view-in-github",
        "colab_type": "text"
      },
      "source": [
        "<a href=\"https://colab.research.google.com/github/LucasCPimentel/dialogflow-finance-chatbot/blob/main/ProjetoETL.ipynb\" target=\"_parent\"><img src=\"https://colab.research.google.com/assets/colab-badge.svg\" alt=\"Open In Colab\"/></a>"
      ]
    },
    {
      "cell_type": "markdown",
      "source": [
        "# Projeto ETL - Desafio Santander Bootcamp 2023 em Ciência de Dados / Python\n",
        "\n",
        "\n",
        "## Objetivo:\n",
        "\n",
        "### Este projeto consiste na criação de um sistema de geração de mensagens personalizadas para clientes bancários, utilizando o Dialogflow da Google e integração com uma API bancária fictícia. As principais tecnologias empregadas incluem Python, Pandas para manipulação de dados, Dialogflow para processamento de linguagem natural e interações de chat, além de requisições HTTP para acessar informações dos clientes na API bancária. O sistema utiliza Inteligência Artificial para criar mensagens customizadas sobre a importância dos investimentos para cada cliente, contribuindo para uma experiência mais relevante e engajadora.\n",
        "\n",
        "\n"
      ],
      "metadata": {
        "id": "bFzWbqhkiMQ8"
      }
    },
    {
      "cell_type": "markdown",
      "source": [
        "## **0.0. Imports**"
      ],
      "metadata": {
        "id": "RJYT1d2RqZla"
      }
    },
    {
      "cell_type": "code",
      "source": [
        "!pip install pandas\n",
        "!pip install requests\n",
        "!pip install numpy\n",
        "!pip install matplotlib\n",
        "!pip install openai\n",
        "!pip install google-cloud-dialogflow"
      ],
      "metadata": {
        "id": "nNnTgyNk_gOR"
      },
      "execution_count": null,
      "outputs": []
    },
    {
      "cell_type": "code",
      "source": [
        "import pandas as pd\n",
        "import requests\n",
        "import json\n",
        "import numpy as np\n",
        "import os\n",
        "import matplotlib.pyplot as plt\n",
        "from google.cloud import dialogflow"
      ],
      "metadata": {
        "id": "zQWeWzVEoyKR"
      },
      "execution_count": 7,
      "outputs": []
    },
    {
      "cell_type": "markdown",
      "source": [
        "## **0.1. Definindo as informações necessárias**"
      ],
      "metadata": {
        "id": "zuLCCVG2__us"
      }
    },
    {
      "cell_type": "code",
      "source": [
        "sdw2023_api_url = 'https://sdw-2023-prd.up.railway.app'\n",
        "dialogflow_project_id = 'projetoetldialogflow'"
      ],
      "metadata": {
        "id": "-s4gtUmohzIc"
      },
      "execution_count": 8,
      "outputs": []
    },
    {
      "cell_type": "markdown",
      "source": [
        "## **0.2. Configurando as credenciais**"
      ],
      "metadata": {
        "id": "P2JLvYIdA0qA"
      }
    },
    {
      "cell_type": "code",
      "source": [
        "json_credentials_path = \"/content/projetoetldialogflow-a1f40040a018.json\"\n",
        "os.environ[\"GOOGLE_APPLICATION_CREDENTIALS\"] = json_credentials_path\n"
      ],
      "metadata": {
        "id": "_vrXcn2fBFpK"
      },
      "execution_count": 19,
      "outputs": []
    },
    {
      "cell_type": "markdown",
      "source": [
        "## **0.3. Carregando dados**"
      ],
      "metadata": {
        "id": "qafHRD6KBGm3"
      }
    },
    {
      "cell_type": "code",
      "source": [
        "df = pd.read_csv('SDW20233.csv.txt')\n",
        "user_ids = df['UserID'].tolist()"
      ],
      "metadata": {
        "id": "_GPBmZhzBShi"
      },
      "execution_count": 10,
      "outputs": []
    },
    {
      "cell_type": "markdown",
      "source": [
        "## **0.4. Função para obter informações do usuário**"
      ],
      "metadata": {
        "id": "o5gywyD9BUri"
      }
    },
    {
      "cell_type": "code",
      "source": [
        "def get_user(id):\n",
        "    response = requests.get(f'{sdw2023_api_url}/users/{id}')\n",
        "    return response.json() if response.status_code == 200 else None"
      ],
      "metadata": {
        "id": "8lKcuKQkBgC6"
      },
      "execution_count": 11,
      "outputs": []
    },
    {
      "cell_type": "markdown",
      "source": [
        "## **0.5. Coletar informações do usuário**"
      ],
      "metadata": {
        "id": "N0CXbhfGBnie"
      }
    },
    {
      "cell_type": "code",
      "source": [
        "users = [user for id in user_ids if (user := get_user(id)) is not None]"
      ],
      "metadata": {
        "id": "iCRd-b_bBvZv"
      },
      "execution_count": 12,
      "outputs": []
    },
    {
      "cell_type": "markdown",
      "source": [
        "## **0.6. Função para gerar frases sobre a importância de investir usando o DialogFlow**"
      ],
      "metadata": {
        "id": "vz5kYd9fBy8s"
      }
    },
    {
      "cell_type": "code",
      "source": [
        "def generate_dialogflow_news(user):\n",
        "    session_client = dialogflow.SessionsClient()\n",
        "    session = session_client.session_path(dialogflow_project_id, user['id'])\n",
        "\n",
        "    text_input = dialogflow.TextInput(\n",
        "        text=f\"Crie uma mensagem para {user['name']} sobre a importância dos investimentos (máximo de 100 caracteres)\",\n",
        "        language_code=\"pt-BR\"\n",
        "    )\n",
        "    query_input = dialogflow.QueryInput(text=text_input)\n",
        "    response = session_client.detect_intent(\n",
        "        request={\"session\": session, \"query_input\": query_input}\n",
        "    )\n",
        "\n",
        "    return response.query_result.fulfillment_text"
      ],
      "metadata": {
        "id": "HwPzaBekB4CQ"
      },
      "execution_count": 34,
      "outputs": []
    },
    {
      "cell_type": "markdown",
      "source": [
        "## **0.7. Adição de frases geradas aos usuários**"
      ],
      "metadata": {
        "id": "kARswrJFB6cE"
      }
    },
    {
      "cell_type": "code",
      "source": [
        "for user in users:\n",
        "    news = generate_dialogflow_news(user)\n",
        "    user['news'].append({\n",
        "        \"icon\": \"https://digitalinnovationone.github.io/santander-dev-week-2023-api/icons/credit.svg\",\n",
        "        \"description\": news\n",
        "    })\n",
        "    print(f\"{user['name'] }, {news}\")"
      ],
      "metadata": {
        "colab": {
          "base_uri": "https://localhost:8080/"
        },
        "id": "X7zvIXEQCCAF",
        "outputId": "c2235e8a-8ec9-412e-a765-d549bfb7a664"
      },
      "execution_count": 40,
      "outputs": [
        {
          "output_type": "stream",
          "name": "stdout",
          "text": [
            "João, Investir é o caminho para conquistar sonhos.\n",
            "Maria, Prepare-se para o futuro, comece a investir.\n",
            "André, Investir é o caminho para conquistar sonhos.\n",
            "Laura, Seu futuro agradece: invista para prosperar.\n",
            "Lucas, Transforme pequenos investimentos em grandes conquistas.\n",
            "Ana, Faça seu dinheiro trabalhar por você. Invista!\n",
            "Pedro, Faça seu dinheiro trabalhar por você. Invista!\n",
            "Sofia, Invista hoje e colha os frutos amanhã!\n",
            "Diego, Invista para garantir um futuro financeiramente estável.\n",
            "Camila, Invista com sabedoria e veja seu patrimônio crescer.\n"
          ]
        }
      ]
    },
    {
      "cell_type": "markdown",
      "source": [
        "## **0.8. Função para atualizar os dados do usuário**"
      ],
      "metadata": {
        "id": "qtqsqLLfCFCU"
      }
    },
    {
      "cell_type": "code",
      "source": [
        "def update_user(user):\n",
        "    response = requests.put(f\"{sdw2023_api_url}/users/{user['id']}\", json=user)\n",
        "    return True if response.status_code == 200 else False"
      ],
      "metadata": {
        "id": "tSLHvA_KCQqY"
      },
      "execution_count": 22,
      "outputs": []
    },
    {
      "cell_type": "markdown",
      "source": [
        "## **0.9. Atualizar usuários no sistema**"
      ],
      "metadata": {
        "id": "eEDRm-7dCSyw"
      }
    },
    {
      "cell_type": "code",
      "source": [
        "for user in users:\n",
        "    success = update_user(user)\n",
        "    print(f\"User {user['name']} updated? {success}!\")"
      ],
      "metadata": {
        "colab": {
          "base_uri": "https://localhost:8080/"
        },
        "id": "PUiYp8dACa4Q",
        "outputId": "84ca081e-ef8c-4f73-db01-62006a801756"
      },
      "execution_count": 23,
      "outputs": [
        {
          "output_type": "stream",
          "name": "stdout",
          "text": [
            "User João updated? True!\n",
            "User Maria updated? True!\n",
            "User André updated? True!\n",
            "User Laura updated? True!\n",
            "User Lucas updated? True!\n",
            "User Ana updated? True!\n",
            "User Pedro updated? True!\n",
            "User Sofia updated? True!\n",
            "User Diego updated? True!\n",
            "User Camila updated? True!\n"
          ]
        }
      ]
    },
    {
      "cell_type": "markdown",
      "source": [
        "# **Análise das Contas Bancárias e Limites de Crédito**"
      ],
      "metadata": {
        "id": "pTvALIyEDeQw"
      }
    },
    {
      "cell_type": "markdown",
      "source": [
        "## **0.10. Lista para armazenar os saldos das contas bancárias e os limites de crédito**"
      ],
      "metadata": {
        "id": "V39Kj61aCdSb"
      }
    },
    {
      "cell_type": "code",
      "source": [
        "account_balances = []\n",
        "credit_limits = []"
      ],
      "metadata": {
        "id": "4LSEhyRFDWAl"
      },
      "execution_count": 24,
      "outputs": []
    },
    {
      "cell_type": "markdown",
      "source": [
        "## **0.11. Coletar os saldos das contas bancárias e limites de crédito**"
      ],
      "metadata": {
        "id": "tPnpC5RkDw0y"
      }
    },
    {
      "cell_type": "code",
      "source": [
        "for user in users:\n",
        "    account_balances.append(user['account']['balance'])\n",
        "    credit_limits.append(user['account']['limit'])\n",
        "    credit_limits.append(user['card']['limit'])"
      ],
      "metadata": {
        "id": "4fpvPu7xD8Vq"
      },
      "execution_count": 25,
      "outputs": []
    },
    {
      "cell_type": "markdown",
      "source": [
        "## **0.12. Estatística dos saldos das contas bancárias**"
      ],
      "metadata": {
        "id": "u-iBJHybD-s_"
      }
    },
    {
      "cell_type": "code",
      "source": [
        "average_balance = np.mean(account_balances)\n",
        "median_balance = np.median(account_balances)\n",
        "std_dev_balance = np.std(account_balances)"
      ],
      "metadata": {
        "id": "Cef3jTezELil"
      },
      "execution_count": 26,
      "outputs": []
    },
    {
      "cell_type": "markdown",
      "source": [
        "## **0.13. Estatística dos limites de crédito**"
      ],
      "metadata": {
        "id": "VV8V3EekFDlc"
      }
    },
    {
      "cell_type": "code",
      "source": [
        "average_limit = np.mean(credit_limits)\n",
        "median_limit = np.median(credit_limits)\n",
        "std_dev_limit = np.std(credit_limits)"
      ],
      "metadata": {
        "id": "D04YZrkOFIeK"
      },
      "execution_count": 27,
      "outputs": []
    },
    {
      "cell_type": "markdown",
      "source": [
        "## **0.14. Estatísticas dos saldos das contas bancárias e limites de crédito**"
      ],
      "metadata": {
        "id": "Z_37BR2jFKfb"
      }
    },
    {
      "cell_type": "code",
      "source": [
        "print(\"Análise das Contas Bancárias:\")\n",
        "print(f\"Média dos saldos das contas: {average_balance}\")\n",
        "print(f\"Mediana dos saldos das contas: {median_balance}\")\n",
        "print(f\"Desvio padrão dos saldos das contas: {std_dev_balance}\")\n",
        "\n",
        "print(\"\\nAnálise dos Limites de Crédito:\")\n",
        "print(f\"Média dos limites de crédito: {average_limit}\")\n",
        "print(f\"Mediana dos limites de crédito: {median_limit}\")\n",
        "print(f\"Desvio padrão dos limites de crédito: {std_dev_limit}\")"
      ],
      "metadata": {
        "colab": {
          "base_uri": "https://localhost:8080/"
        },
        "id": "Rnz-73YhFRp4",
        "outputId": "fdcf60eb-3459-4706-96c3-8570119c9120"
      },
      "execution_count": 28,
      "outputs": [
        {
          "output_type": "stream",
          "name": "stdout",
          "text": [
            "Análise das Contas Bancárias:\n",
            "Média dos saldos das contas: 2900.0\n",
            "Mediana dos saldos das contas: 2250.0\n",
            "Desvio padrão dos saldos das contas: 2273.3235581412514\n",
            "\n",
            "Análise dos Limites de Crédito:\n",
            "Média dos limites de crédito: 3440.0\n",
            "Mediana dos limites de crédito: 3000.0\n",
            "Desvio padrão dos limites de crédito: 2387.1321706181247\n"
          ]
        }
      ]
    },
    {
      "cell_type": "code",
      "source": [
        "!git clone https://github.com/LucasCPimentel/dialogflow-finance-chatbot.git"
      ],
      "metadata": {
        "colab": {
          "base_uri": "https://localhost:8080/"
        },
        "id": "LqNHVzlA0cqz",
        "outputId": "56c28817-c133-425d-83bf-820af4b33506"
      },
      "execution_count": 29,
      "outputs": [
        {
          "output_type": "stream",
          "name": "stdout",
          "text": [
            "Cloning into 'dialogflow-finance-chatbot'...\n",
            "remote: Enumerating objects: 6, done.\u001b[K\n",
            "remote: Counting objects: 100% (6/6), done.\u001b[K\n",
            "remote: Compressing objects: 100% (4/4), done.\u001b[K\n",
            "remote: Total 6 (delta 0), reused 0 (delta 0), pack-reused 0\u001b[K\n",
            "Receiving objects: 100% (6/6), done.\n"
          ]
        }
      ]
    },
    {
      "cell_type": "code",
      "source": [
        "!mv /content/dialogflow-finance-chatbot/* /content/dialogflow-finance-chatbot/\n"
      ],
      "metadata": {
        "colab": {
          "base_uri": "https://localhost:8080/"
        },
        "id": "-ndWgexv1HrK",
        "outputId": "c38163d2-927c-4965-d735-083cb0db182a"
      },
      "execution_count": 41,
      "outputs": [
        {
          "output_type": "stream",
          "name": "stdout",
          "text": [
            "mv: '/content/dialogflow-finance-chatbot/README.md' and '/content/dialogflow-finance-chatbot/README.md' are the same file\n"
          ]
        }
      ]
    },
    {
      "cell_type": "code",
      "source": [
        "cd /ccontent/dialogflow-finance-chatbot/"
      ],
      "metadata": {
        "colab": {
          "base_uri": "https://localhost:8080/"
        },
        "id": "OoFw3JRnM9d5",
        "outputId": "1598aafe-3cd8-47f3-d0e0-184c4dbda6c7"
      },
      "execution_count": 42,
      "outputs": [
        {
          "output_type": "stream",
          "name": "stdout",
          "text": [
            "[Errno 2] No such file or directory: '/ccontent/dialogflow-finance-chatbot/'\n",
            "/content\n"
          ]
        }
      ]
    }
  ]
}